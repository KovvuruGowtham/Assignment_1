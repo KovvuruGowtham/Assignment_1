{
 "cells": [
  {
   "cell_type": "markdown",
   "id": "accfb3c0-6662-4f2c-8480-e949623ebecd",
   "metadata": {},
   "source": [
    "1. In the below elements which of them are values or an expression? eg:- values can be integer or string and expressions will be mathematical operators\n",
    "\n",
    "*\n",
    "'hello'\n",
    "-87.8\n",
    "-\n",
    "/\n",
    "+\n",
    "6"
   ]
  },
  {
   "cell_type": "raw",
   "id": "776cee6c-845a-46cb-a890-4f3637d7e6e4",
   "metadata": {},
   "source": [
    "Ans:-\n",
    "\n",
    "Values: 'hello' ; -87.8 ; 6\n",
    "\n",
    "expressions: * ; - ; / ; +\n",
    "     "
   ]
  },
  {
   "cell_type": "markdown",
   "id": "8f046f53-5d37-498c-8723-3087828604f9",
   "metadata": {},
   "source": [
    "2. What is the difference between string and variable?"
   ]
  },
  {
   "cell_type": "raw",
   "id": "e85d3f59-f345-44ba-a7fa-92848e903a92",
   "metadata": {},
   "source": [
    "Ans:-\n",
    "\n",
    "variable: It is a container which stores data values and it is used to assign address to the data values in the memory.Though different values will have different addresses for the same variable.\n",
    "\n",
    "String: It is a character or a group of character and it is a value which can be assigned to a variable.It is immutable.A value in single/double quotes can be identified as a string. \n",
    "    "
   ]
  },
  {
   "cell_type": "markdown",
   "id": "3cbf8b09-6ad3-4f60-a049-722c6f57b527",
   "metadata": {},
   "source": [
    "3. Describe three different data types."
   ]
  },
  {
   "cell_type": "markdown",
   "id": "39efa926-37d3-462a-a373-5d375a72c3f4",
   "metadata": {},
   "source": [
    "Ans:-\n",
    "\n",
    "Numeric data:\n",
    "int - represents integer values\n",
    "float - represents decimal numbers\n",
    "complex\n",
    "\n",
    "String data:\n",
    "str(string) - represents a character/group of characters\n",
    "\n",
    "boolean type:\n",
    "bool"
   ]
  },
  {
   "cell_type": "markdown",
   "id": "7d8bbcb9-7fb5-4934-a3d8-40bd03b582c8",
   "metadata": {},
   "source": [
    "4. What is an expression made up of? What do all expressions do?"
   ]
  },
  {
   "cell_type": "markdown",
   "id": "b4e19cd1-2a63-46c2-ba4f-4f30b4eec7d7",
   "metadata": {},
   "source": [
    "Ans:-\n",
    "\n",
    "An expression is made up of operators and values/variables(operands).\n",
    "All expressions perform operations and return a value."
   ]
  },
  {
   "cell_type": "markdown",
   "id": "0fbb0e38-c2da-463e-b5d3-08b731325b01",
   "metadata": {},
   "source": [
    "5. This assignment statements, like spam = 10. What is the difference between an expression and a statement?"
   ]
  },
  {
   "cell_type": "markdown",
   "id": "1feff0b8-bf2c-42d9-8bd6-8b4d0cabcb77",
   "metadata": {},
   "source": [
    "Ans:-\n",
    "\n",
    "A statement assigns a value to a variable or returns a value:\n",
    "\n",
    "spam = 10 #it is a statement\n",
    "\n",
    "spam = spam + 10 #it is an expression\n",
    "\n",
    "print(spam) #it is again a statement\n",
    "\n"
   ]
  },
  {
   "cell_type": "markdown",
   "id": "b4930989-732c-41ef-91ea-24312ccb378a",
   "metadata": {},
   "source": [
    "6. After running the following code, what does the variable bacon contain?\n",
    "bacon = 22\n",
    "bacon + 1\n",
    "\n",
    "Ans:-"
   ]
  },
  {
   "cell_type": "code",
   "execution_count": 2,
   "id": "1f2c21b7-59b8-4787-b84c-e2599bb0394d",
   "metadata": {},
   "outputs": [
    {
     "data": {
      "text/plain": [
       "22"
      ]
     },
     "execution_count": 2,
     "metadata": {},
     "output_type": "execute_result"
    }
   ],
   "source": [
    "bacon = 22\n",
    "bacon+1\n",
    "bacon"
   ]
  },
  {
   "cell_type": "markdown",
   "id": "2b59d9cb-c9ae-4e4a-afa4-6c6dfbf91a70",
   "metadata": {},
   "source": [
    "7. What should the values of the following two terms be?\n",
    "'spam' + 'spamspam'\n",
    "'spam'*3\n",
    "\n",
    "Ans:-"
   ]
  },
  {
   "cell_type": "code",
   "execution_count": 3,
   "id": "bc27250c-759c-462c-95a9-7817c845af7e",
   "metadata": {},
   "outputs": [
    {
     "data": {
      "text/plain": [
       "'spamspamspam'"
      ]
     },
     "execution_count": 3,
     "metadata": {},
     "output_type": "execute_result"
    }
   ],
   "source": [
    "'spam' + 'spamspam'"
   ]
  },
  {
   "cell_type": "code",
   "execution_count": 4,
   "id": "0ae2bfdc-24b0-4398-b348-9669770349b5",
   "metadata": {},
   "outputs": [
    {
     "data": {
      "text/plain": [
       "'spamspamspam'"
      ]
     },
     "execution_count": 4,
     "metadata": {},
     "output_type": "execute_result"
    }
   ],
   "source": [
    "'spam'*3"
   ]
  },
  {
   "cell_type": "markdown",
   "id": "4b369104-f0a1-4014-95a5-56ef9ca3fbcc",
   "metadata": {},
   "source": [
    "8. Why is eggs a valid variable name while 100 is invalid?"
   ]
  },
  {
   "cell_type": "markdown",
   "id": "c10d9a97-36bd-4288-b0b2-99879b7b06df",
   "metadata": {},
   "source": [
    "Ans:-\n",
    "\n",
    "A variable can be alphanumeric but it cannot start with a number.\n",
    "\n",
    "As \"eggs\" contains alphabets it is a valid variable name whereas \"100\" starts with a numeric value so it is invalid."
   ]
  },
  {
   "cell_type": "markdown",
   "id": "908fd5c7-570a-4864-af91-145f4bf05ee4",
   "metadata": {},
   "source": [
    "9. What three functions can be used to get the integer, floating-point number, or string version of a value?"
   ]
  },
  {
   "cell_type": "markdown",
   "id": "04ee5969-7ff9-4838-a900-af903d57a076",
   "metadata": {},
   "source": [
    "Ans:-\n",
    "int() function converts a value into an integer number\n",
    "float() function converts a value into a decimal number\n",
    "str() function converts a value into a string"
   ]
  },
  {
   "cell_type": "markdown",
   "id": "5a25638d-892d-4549-8334-95f2b8be6809",
   "metadata": {},
   "source": [
    "10. Why does this expression cause an error? How can you fix it? 'I have eaten' + 99 + 'burritos'"
   ]
  },
  {
   "cell_type": "markdown",
   "id": "ef4ca88b-19eb-4d4f-9b5a-ca3f0debaca9",
   "metadata": {},
   "source": [
    "Ans:-\n",
    "The expression contains different data types(numeric and string).Hence it can not be operated and causes an error.It can fixed as below:"
   ]
  },
  {
   "cell_type": "code",
   "execution_count": 8,
   "id": "0b70d70b-39da-4d50-af46-24afaeca712f",
   "metadata": {},
   "outputs": [
    {
     "data": {
      "text/plain": [
       "'I have eaten 99 burritos'"
      ]
     },
     "execution_count": 8,
     "metadata": {},
     "output_type": "execute_result"
    }
   ],
   "source": [
    "'I have eaten' + ' 99 ' + 'burritos'"
   ]
  },
  {
   "cell_type": "code",
   "execution_count": null,
   "id": "aad6ec17-89bb-473e-8ef9-695c1df52489",
   "metadata": {},
   "outputs": [],
   "source": []
  }
 ],
 "metadata": {
  "kernelspec": {
   "display_name": "Python 3 (ipykernel)",
   "language": "python",
   "name": "python3"
  },
  "language_info": {
   "codemirror_mode": {
    "name": "ipython",
    "version": 3
   },
   "file_extension": ".py",
   "mimetype": "text/x-python",
   "name": "python",
   "nbconvert_exporter": "python",
   "pygments_lexer": "ipython3",
   "version": "3.10.6"
  }
 },
 "nbformat": 4,
 "nbformat_minor": 5
}
